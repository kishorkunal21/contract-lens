{
 "cells": [
  {
   "cell_type": "markdown",
   "id": "d7f08c77-6806-41a1-9a12-4275eac20faa",
   "metadata": {},
   "source": [
    "# Install Dependencies"
   ]
  },
  {
   "cell_type": "code",
   "execution_count": null,
   "id": "063146a6-5a98-47ed-92e3-529c1e8be967",
   "metadata": {
    "tags": []
   },
   "outputs": [],
   "source": [
    "!pip install sagemaker==2.173.0 transformers"
   ]
  },
  {
   "cell_type": "markdown",
   "id": "bc1553a0-8480-4eb8-aa33-fa71aa68d018",
   "metadata": {},
   "source": [
    "# Deploy Embedding Model"
   ]
  },
  {
   "cell_type": "code",
   "execution_count": null,
   "id": "5150d723-5fc2-4cc4-ac42-67bcfd2a092b",
   "metadata": {
    "tags": []
   },
   "outputs": [],
   "source": [
    "import sagemaker\n",
    "from sagemaker.huggingface import HuggingFaceModel\n",
    "\n",
    "role = sagemaker.get_execution_role()\n",
    "\n",
    "hub_config = {\n",
    "    'HF_MODEL_ID': 'sentence-transformers/all-MiniLM-L6-v2',\n",
    "    'HF_TASK': 'feature-extraction'\n",
    "}\n",
    "\n",
    "huggingface_model = HuggingFaceModel(\n",
    "    env=hub_config,\n",
    "    role=role,\n",
    "    transformers_version=\"4.6\",\n",
    "    pytorch_version=\"1.7\",\n",
    "    py_version=\"py36\",\n",
    ")\n",
    "\n",
    "encoder = huggingface_model.deploy(\n",
    "    initial_instance_count=1,\n",
    "    instance_type=\"ml.m5.large\",\n",
    "    endpoint_name=\"minilm-embedding\"\n",
    ")"
   ]
  },
  {
   "cell_type": "markdown",
   "id": "d3f3fa5b-50ad-4dad-9cce-af687e890224",
   "metadata": {
    "tags": []
   },
   "source": [
    "# Invoke Endpoint (Example)"
   ]
  },
  {
   "cell_type": "code",
   "execution_count": null,
   "id": "265e4623-71d0-4d58-9558-cd6efd2868cd",
   "metadata": {
    "tags": []
   },
   "outputs": [],
   "source": [
    "import boto3\n",
    "import json\n",
    "\n",
    "runtime = boto3.client(\"runtime.sagemaker\")\n",
    "EMBEDDING_ENDPOINT=\"minilm-embedding\"\n",
    "\n",
    "response = runtime.invoke_endpoint(EndpointName=EMBEDDING_ENDPOINT, ContentType=\"application/json\", Body=json.dumps({\"inputs\":[\"Text for embedding\"]}))\n",
    "print(json.loads(response['Body'].read().decode('utf-8')))"
   ]
  }
 ],
 "metadata": {
  "kernelspec": {
   "display_name": "conda_pytorch_p310",
   "language": "python",
   "name": "conda_pytorch_p310"
  },
  "language_info": {
   "codemirror_mode": {
    "name": "ipython",
    "version": 3
   },
   "file_extension": ".py",
   "mimetype": "text/x-python",
   "name": "python",
   "nbconvert_exporter": "python",
   "pygments_lexer": "ipython3",
   "version": "3.10.14"
  }
 },
 "nbformat": 4,
 "nbformat_minor": 5
}
