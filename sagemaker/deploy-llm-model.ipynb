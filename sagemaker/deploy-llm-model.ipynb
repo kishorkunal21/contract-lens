{
 "cells": [
  {
   "cell_type": "markdown",
   "id": "74a4e9d1-c8a8-4e13-81b7-953658222d66",
   "metadata": {},
   "source": [
    "# Install Dependencies"
   ]
  },
  {
   "cell_type": "code",
   "execution_count": null,
   "id": "ef0f9a49-de69-4c2c-9cd9-2476cd4f01f5",
   "metadata": {
    "tags": []
   },
   "outputs": [],
   "source": [
    "!pip install -U sagemaker transformers"
   ]
  },
  {
   "cell_type": "markdown",
   "id": "40d872bb-149d-4f67-8134-ffca8970280f",
   "metadata": {},
   "source": [
    "# Deploy LLM Model"
   ]
  },
  {
   "cell_type": "code",
   "execution_count": null,
   "id": "9b58c777-fb80-43b7-aab5-669046f29835",
   "metadata": {
    "tags": []
   },
   "outputs": [],
   "source": [
    "import json\n",
    "import sagemaker\n",
    "import boto3\n",
    "from sagemaker.huggingface import HuggingFaceModel, get_huggingface_llm_image_uri\n",
    "\n",
    "try:\n",
    "\trole = sagemaker.get_execution_role()\n",
    "except ValueError:\n",
    "\tiam = boto3.client('iam')\n",
    "\trole = iam.get_role(RoleName='sagemaker_execution_role')['Role']['Arn']\n",
    "\n",
    "# Hub Model configuration. https://huggingface.co/models\n",
    "hub = {\n",
    "\t'HF_MODEL_ID':'mistralai/Mistral-7B-Instruct-v0.2',\n",
    "\t'SM_NUM_GPUS': json.dumps(1),\n",
    "\t'HUGGING_FACE_HUB_TOKEN': '<REPLACE_WITH_YOUR_HF_TOKEN>'\n",
    "}\n",
    "\n",
    "# create Hugging Face Model Class\n",
    "huggingface_model = HuggingFaceModel(\n",
    "\timage_uri=get_huggingface_llm_image_uri(\"huggingface\",version=\"2.0.2\"),\n",
    "\tenv=hub,\n",
    "\trole=role, \n",
    ")\n",
    "\n",
    "# deploy model to SageMaker Inference\n",
    "predictor = huggingface_model.deploy(\n",
    "\tinitial_instance_count=1,\n",
    "\tinstance_type=\"ml.g5.xlarge\",\n",
    "    endpoint_name=\"mistral-llm\",\n",
    "\tcontainer_startup_health_check_timeout=300,\n",
    "  )\n",
    "  "
   ]
  },
  {
   "cell_type": "markdown",
   "id": "02a0b2fc-eba6-4c4a-a17d-fcb9f13b0a15",
   "metadata": {},
   "source": [
    "# Invoke Endpoint (Example)"
   ]
  },
  {
   "cell_type": "code",
   "execution_count": null,
   "id": "091325fb-a417-4e77-a381-eea2da44344c",
   "metadata": {
    "tags": []
   },
   "outputs": [],
   "source": [
    "import boto3\n",
    "import json\n",
    "\n",
    "runtime = boto3.client(\"runtime.sagemaker\")\n",
    "LLM_ENDPOINT=\"mistral-llm\"\n",
    "\n",
    "response = runtime.invoke_endpoint(EndpointName=LLM_ENDPOINT, ContentType=\"application/json\", Body=json.dumps({\"inputs\":f\"<s>[INST]Tell me an article on Blockchain[/INST]\"}).encode(\"utf-8\"))\n",
    "print(json.loads(response['Body'].read().decode('utf-8')))"
   ]
  }
 ],
 "metadata": {
  "kernelspec": {
   "display_name": "conda_pytorch_p310",
   "language": "python",
   "name": "conda_pytorch_p310"
  },
  "language_info": {
   "codemirror_mode": {
    "name": "ipython",
    "version": 3
   },
   "file_extension": ".py",
   "mimetype": "text/x-python",
   "name": "python",
   "nbconvert_exporter": "python",
   "pygments_lexer": "ipython3",
   "version": "3.10.14"
  }
 },
 "nbformat": 4,
 "nbformat_minor": 5
}
